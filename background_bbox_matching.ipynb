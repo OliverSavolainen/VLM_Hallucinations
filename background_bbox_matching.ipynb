{
 "cells": [
  {
   "cell_type": "code",
   "execution_count": 1,
   "id": "initial_id",
   "metadata": {
    "collapsed": true,
    "ExecuteTime": {
     "end_time": "2024-05-20T21:31:23.798416100Z",
     "start_time": "2024-05-20T21:31:23.415912200Z"
    }
   },
   "outputs": [],
   "source": [
    "import pickle\n",
    "import json\n",
    "import numpy as np\n",
    "import os\n",
    "import h5py"
   ]
  },
  {
   "cell_type": "code",
   "outputs": [],
   "source": [
    "EXTRACTED_OBJECTS_PATH = 'intermediate_outputs/objects_with_bounding_boxes.jsonl'\n",
    "SEGMENTATIONS_PATH = 'data/segmentation_masks/segmentation_masks_voc2012.h5'\n",
    "\n",
    "segmentations = {}\n",
    "with h5py.File(SEGMENTATIONS_PATH, \"r\") as hf:\n",
    "    for image_name in hf.keys():\n",
    "        segmentations[image_name] = hf.get(image_name)[:]\n",
    "\n",
    "with open(EXTRACTED_OBJECTS_PATH, 'r') as file:\n",
    "    extracted_objects = [json.loads(line) for line in file] "
   ],
   "metadata": {
    "collapsed": false,
    "ExecuteTime": {
     "end_time": "2024-05-20T16:06:26.134223700Z",
     "start_time": "2024-05-20T16:06:23.786223Z"
    }
   },
   "id": "9c75ea4affc7b0b6",
   "execution_count": 2
  },
  {
   "cell_type": "code",
   "outputs": [],
   "source": [
    "def scale_bbox(bbox, new_scale):\n",
    "    # Convert from 1000x1000 cogvlm to 640x480 coco\n",
    "    corners = bbox.split(\",\")\n",
    "    float_corners = [ float(corner)/1000 for corner in corners]\n",
    "    scaled_x0, scaled_x1 = (int(float_corners[0] * new_scale[0]), \n",
    "                            int(float_corners[2] * new_scale[0]))\n",
    "    scaled_y0, scaled_y1 = (int(float_corners[1] * new_scale[1]), \n",
    "                            int(float_corners[3] * new_scale[0]))\n",
    "    return scaled_x0, scaled_y0, scaled_x1, scaled_y1"
   ],
   "metadata": {
    "collapsed": false,
    "ExecuteTime": {
     "end_time": "2024-05-20T16:06:26.149222Z",
     "start_time": "2024-05-20T16:06:26.136223500Z"
    }
   },
   "id": "5056f31f10998d5f",
   "execution_count": 3
  },
  {
   "cell_type": "code",
   "outputs": [],
   "source": [
    "for object in extracted_objects:\n",
    "    # Get image name\n",
    "    image_name = object['question_id']\n",
    "    # Get extracted bbox\n",
    "    bbox = object[\"bounding_box\"]\n",
    "    # Get segmentation mask\n",
    "    segmentation_mask = segmentations[image_name]\n",
    "    # Scale bbo x coords to 640x480 from 1000x1000\n",
    "    x0, y0, x1, y1 = scale_bbox(bbox, segmentation_mask.shape)\n",
    "    # Get the segmentation mask corresponding to the bbox\n",
    "    # segmentation mask has the shape \n",
    "    masked_bbox = segmentation_mask[x0:x1,y0:y1]\n",
    "    \n",
    "    num_zeros = np.sum(masked_bbox == 0)\n",
    "    if num_zeros != 0:\n",
    "        background_ratio = num_zeros / masked_bbox.size\n",
    "    else:\n",
    "        background_ratio = 0.0\n",
    "    object['background_ratio'] = background_ratio\n",
    "    if background_ratio > 0.75:\n",
    "        object['is_hallucination'] = True\n",
    "    else:\n",
    "        object['is_hallucination'] = False\n"
   ],
   "metadata": {
    "collapsed": false,
    "ExecuteTime": {
     "end_time": "2024-05-20T16:06:26.165222500Z",
     "start_time": "2024-05-20T16:06:26.151721800Z"
    }
   },
   "id": "b1fa21bf65e55fd5",
   "execution_count": 4
  },
  {
   "cell_type": "code",
   "outputs": [],
   "source": [
    "output_path = \"pipeline_outputs/object_background_matching.jsonl\"\n",
    "\n",
    "with open(output_path, 'w') as file:\n",
    "    _ = [file.write(json.dumps(object) + \"\\n\") for object in extracted_objects]"
   ],
   "metadata": {
    "collapsed": false,
    "ExecuteTime": {
     "end_time": "2024-05-20T16:06:26.180223800Z",
     "start_time": "2024-05-20T16:06:26.167222100Z"
    }
   },
   "id": "81375be7ed1709b8",
   "execution_count": 5
  },
  {
   "cell_type": "code",
   "outputs": [],
   "source": [],
   "metadata": {
    "collapsed": false
   },
   "id": "33fb7894035f8354"
  }
 ],
 "metadata": {
  "kernelspec": {
   "display_name": "Python 3",
   "language": "python",
   "name": "python3"
  },
  "language_info": {
   "codemirror_mode": {
    "name": "ipython",
    "version": 2
   },
   "file_extension": ".py",
   "mimetype": "text/x-python",
   "name": "python",
   "nbconvert_exporter": "python",
   "pygments_lexer": "ipython2",
   "version": "2.7.6"
  }
 },
 "nbformat": 4,
 "nbformat_minor": 5
}
