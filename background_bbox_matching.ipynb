{
 "cells": [
  {
   "cell_type": "code",
   "execution_count": 17,
   "id": "initial_id",
   "metadata": {
    "collapsed": true,
    "ExecuteTime": {
     "end_time": "2024-05-20T14:27:26.975417900Z",
     "start_time": "2024-05-20T14:27:26.959417600Z"
    }
   },
   "outputs": [],
   "source": [
    "import pickle\n",
    "import json\n",
    "import numpy as np\n",
    "import os"
   ]
  },
  {
   "cell_type": "code",
   "outputs": [],
   "source": [
    "EXTRACTED_OBJECTS_PATH = 'objects_with_bounding_boxes.jsonl'\n",
    "SEGMENTATIONS_PATH = 'pickled_segmentations'\n",
    "with open(SEGMENTATIONS_PATH, \"rb\") as file:\n",
    "    segmentations = pickle.load(file)\n",
    "    \n",
    "\n",
    "with open(EXTRACTED_OBJECTS_PATH, 'r') as file:\n",
    "    extracted_objects = [json.loads(line) for line in file] "
   ],
   "metadata": {
    "collapsed": false,
    "ExecuteTime": {
     "end_time": "2024-05-20T14:27:27.405942600Z",
     "start_time": "2024-05-20T14:27:27.112944700Z"
    }
   },
   "id": "9c75ea4affc7b0b6",
   "execution_count": 18
  },
  {
   "cell_type": "code",
   "outputs": [],
   "source": [
    "def scale_bbox(bbox):\n",
    "    # Convert from 1000x1000 cogvlm to 640x480 coco\n",
    "    corners = bbox.split(\",\")\n",
    "    float_corners = [ float(corner)/1000 for corner in corners]\n",
    "    scaled_x0, scaled_x1 = int(float_corners[0] * 640), int(float_corners[2] * 640)\n",
    "    scaled_y0, scaled_y1 = int(float_corners[1] * 480), int(float_corners[3] * 480)\n",
    "    return scaled_x0, scaled_y0, scaled_x1, scaled_y1"
   ],
   "metadata": {
    "collapsed": false,
    "ExecuteTime": {
     "end_time": "2024-05-20T14:27:27.422442500Z",
     "start_time": "2024-05-20T14:27:27.408943100Z"
    }
   },
   "id": "5056f31f10998d5f",
   "execution_count": 19
  },
  {
   "cell_type": "code",
   "outputs": [],
   "source": [
    "base_url = \"http://images.cocodataset.org/val2014/\"\n",
    "for object in extracted_objects:\n",
    "    # Get image name\n",
    "    image_name = object['question_id']\n",
    "    # Get extracted bbox\n",
    "    bbox = object[\"bounding_box\"]\n",
    "    # Get segmentation mask\n",
    "    segmentation_mask = segmentations[base_url + image_name]\n",
    "    # Scale bbo x coords to 640x480 from 1000x1000\n",
    "    x0, y0, x1, y1 = scale_bbox(bbox)\n",
    "    # Get the segmentation mask corresponding to the bbox\n",
    "    # segmentation mask has the shape \n",
    "    masked_bbox = segmentation_mask[x0:x1,y0:y1]\n",
    "    \n",
    "    num_zeros = np.sum(masked_bbox == 0)\n",
    "    if num_zeros != 0:\n",
    "        background_ratio = num_zeros / masked_bbox.size\n",
    "    else:\n",
    "        background_ratio = 0.0\n",
    "    object['background_ratio'] = background_ratio\n",
    "    if background_ratio > 0.75:\n",
    "        object['is_hallucination'] = True\n",
    "    else:\n",
    "        object['is_hallucination'] = False\n"
   ],
   "metadata": {
    "collapsed": false,
    "ExecuteTime": {
     "end_time": "2024-05-20T14:31:38.986387200Z",
     "start_time": "2024-05-20T14:31:38.978888400Z"
    }
   },
   "id": "b1fa21bf65e55fd5",
   "execution_count": 25
  },
  {
   "cell_type": "code",
   "outputs": [],
   "source": [
    "output_path = \"object_background_matching.jsonl\"\n",
    "\n",
    "with open(output_path, 'w') as file:\n",
    "    _ = [file.write(json.dumps(object) + \"\\n\") for object in extracted_objects]"
   ],
   "metadata": {
    "collapsed": false,
    "ExecuteTime": {
     "end_time": "2024-05-20T14:35:41.995703Z",
     "start_time": "2024-05-20T14:35:41.985704500Z"
    }
   },
   "id": "81375be7ed1709b8",
   "execution_count": 29
  },
  {
   "cell_type": "code",
   "outputs": [],
   "source": [],
   "metadata": {
    "collapsed": false
   },
   "id": "9c140648bc3f7f43"
  }
 ],
 "metadata": {
  "kernelspec": {
   "display_name": "Python 3",
   "language": "python",
   "name": "python3"
  },
  "language_info": {
   "codemirror_mode": {
    "name": "ipython",
    "version": 2
   },
   "file_extension": ".py",
   "mimetype": "text/x-python",
   "name": "python",
   "nbconvert_exporter": "python",
   "pygments_lexer": "ipython2",
   "version": "2.7.6"
  }
 },
 "nbformat": 4,
 "nbformat_minor": 5
}
